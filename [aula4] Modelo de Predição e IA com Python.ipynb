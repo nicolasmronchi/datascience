{
 "cells": [
  {
   "cell_type": "code",
   "execution_count": 10,
   "id": "6ad9cff7",
   "metadata": {},
   "outputs": [
    {
     "ename": "SyntaxError",
     "evalue": "invalid syntax (<ipython-input-10-f667551bb09d>, line 14)",
     "output_type": "error",
     "traceback": [
      "\u001b[1;36m  File \u001b[1;32m\"<ipython-input-10-f667551bb09d>\"\u001b[1;36m, line \u001b[1;32m14\u001b[0m\n\u001b[1;33m    plt.show()\u001b[0m\n\u001b[1;37m    ^\u001b[0m\n\u001b[1;31mSyntaxError\u001b[0m\u001b[1;31m:\u001b[0m invalid syntax\n"
     ]
    }
   ],
   "source": [
    "import pandas as pd\n",
    "\n",
    "df = pd.read_csv(r'C:\\Users\\conta\\Documents\\Educação\\2021 - Desenvolvimento de Software\\Curso Hashtag Programação - Python, dados, automação\\Aula 4 - Projeto de Ciência de Dados\\advertising.csv')\n",
    "display(df)\n",
    "print(df.info()) # exibir informações da base de dados gerada para averiguar a necessidade de limpeza\n",
    "\n",
    "import seaborn as sns \n",
    "import matplotlib.pyplot as plt\n",
    "\n",
    "sns.pairplot(df) # criar gráfico\n",
    "plt.show() # exibir gráfico\n",
    "\n",
    "sns.heatmap(df.corr(), cmap = 'Wistia', annot = True\n",
    "plt.show()\n"
   ]
  },
  {
   "cell_type": "code",
   "execution_count": null,
   "id": "b4ca4c18",
   "metadata": {},
   "outputs": [],
   "source": []
  },
  {
   "cell_type": "code",
   "execution_count": null,
   "id": "95b203cd",
   "metadata": {},
   "outputs": [],
   "source": []
  }
 ],
 "metadata": {
  "kernelspec": {
   "display_name": "Python 3",
   "language": "python",
   "name": "python3"
  },
  "language_info": {
   "codemirror_mode": {
    "name": "ipython",
    "version": 3
   },
   "file_extension": ".py",
   "mimetype": "text/x-python",
   "name": "python",
   "nbconvert_exporter": "python",
   "pygments_lexer": "ipython3",
   "version": "3.8.8"
  }
 },
 "nbformat": 4,
 "nbformat_minor": 5
}
